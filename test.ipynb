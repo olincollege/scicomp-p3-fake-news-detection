{
 "cells": [
  {
   "cell_type": "code",
   "execution_count": 1,
   "metadata": {},
   "outputs": [
    {
     "name": "stderr",
     "output_type": "stream",
     "text": [
      "/usr/lib/python3/dist-packages/scipy/__init__.py:146: UserWarning: A NumPy version >=1.17.3 and <1.25.0 is required for this version of SciPy (detected version 1.26.1\n",
      "  warnings.warn(f\"A NumPy version >={np_minversion} and <{np_maxversion}\"\n"
     ]
    }
   ],
   "source": [
    "import pandas as pd\n",
    "from sklearn.tree import DecisionTreeClassifier\n",
    "from sklearn.model_selection import train_test_split\n",
    "from sklearn.metrics import accuracy_score, classification_report\n",
    "from sklearn.svm import SVC\n",
    "from sklearn.ensemble import RandomForestClassifier\n",
    "from sklearn.preprocessing import StandardScaler\n",
    "from helpers import *"
   ]
  },
  {
   "cell_type": "code",
   "execution_count": 9,
   "metadata": {},
   "outputs": [
    {
     "name": "stdout",
     "output_type": "stream",
     "text": [
      "        majority_target                                          statement  \\\n",
      "0                  True  End of eviction moratorium means millions of A...   \n",
      "1                  True  End of eviction moratorium means millions of A...   \n",
      "2                  True  End of eviction moratorium means millions of A...   \n",
      "3                  True  End of eviction moratorium means millions of A...   \n",
      "4                  True  End of eviction moratorium means millions of A...   \n",
      "...                 ...                                                ...   \n",
      "134193            False  Joe Bidens great-grandfather Joseph J. Biden w...   \n",
      "134194            False  Joe Bidens great-grandfather Joseph J. Biden w...   \n",
      "134195            False  Joe Bidens great-grandfather Joseph J. Biden w...   \n",
      "134196            False  Joe Bidens great-grandfather Joseph J. Biden w...   \n",
      "134197            False  Joe Bidens great-grandfather Joseph J. Biden w...   \n",
      "\n",
      "        BinaryNumTarget                                              tweet  \\\n",
      "0                   1.0  @POTUS Biden Blunders - 6 Month Update\\n\\nInfl...   \n",
      "1                   1.0  @S0SickRick @Stairmaster_ @6d6f636869 Not as m...   \n",
      "2                   1.0  THE SUPREME COURT is siding with super rich pr...   \n",
      "3                   1.0  @POTUS Biden Blunders\\n\\nBroken campaign promi...   \n",
      "4                   1.0  @OhComfy I agree. The confluence of events rig...   \n",
      "...                 ...                                                ...   \n",
      "134193              0.0  Joe Biden's family owned African slaves....\\n\\...   \n",
      "134194              0.0  Joe Bidens great, great grandfather was a slav...   \n",
      "134195              0.0  @ChevyChaseToGo \"Joe Bidens great-grandfather ...   \n",
      "134196              0.0  @JoeBiden Facts are Bidens VP Kamala Harris Gr...   \n",
      "134197              0.0  @sunny Yes representation matters. Did you kno...   \n",
      "\n",
      "        followers_count  friends_count  favourites_count  statuses_count  \\\n",
      "0                4262.0         3619.0           34945.0         16423.0   \n",
      "1                1393.0         1621.0           31436.0         37184.0   \n",
      "2                   9.0           84.0             219.0          1184.0   \n",
      "3                4262.0         3619.0           34945.0         16423.0   \n",
      "4                  70.0          166.0           15282.0          2194.0   \n",
      "...                 ...            ...               ...             ...   \n",
      "134193           2075.0         2662.0          156306.0         62375.0   \n",
      "134194           1636.0         1626.0          215290.0         44011.0   \n",
      "134195            286.0         2501.0           28377.0          7617.0   \n",
      "134196              2.0           45.0              16.0           509.0   \n",
      "134197            178.0          471.0            1254.0          2094.0   \n",
      "\n",
      "        listed_count  following  ... determiners  conjunctions  dots  \\\n",
      "0               44.0        0.0  ...           0             0     5   \n",
      "1               64.0        0.0  ...           0             2     1   \n",
      "2                0.0        0.0  ...           0             1     0   \n",
      "3               44.0        0.0  ...           0             1     3   \n",
      "4                0.0        0.0  ...           0             1     3   \n",
      "...              ...        ...  ...         ...           ...   ...   \n",
      "134193           3.0        0.0  ...           0             2     1   \n",
      "134194          10.0        0.0  ...           0             0     1   \n",
      "134195           1.0        0.0  ...           1             4     1   \n",
      "134196           0.0        0.0  ...           1             0     3   \n",
      "134197           0.0        0.0  ...           0             1     2   \n",
      "\n",
      "        exclamation  questions  ampersand  capitals  digits  long_word_freq  \\\n",
      "0                 0          1          0        33       3               5   \n",
      "1                 0          0          0        14       0               2   \n",
      "2                 0          0          0         3       0               4   \n",
      "3                 0          0          1         6       8               1   \n",
      "4                 0          1          0        11       3               2   \n",
      "...             ...        ...        ...       ...     ...             ...   \n",
      "134193            0          3          0        31       0               4   \n",
      "134194            0          0          0        16       6               2   \n",
      "134195            0          0          1         2       4               0   \n",
      "134196            0          0          0         0       0               1   \n",
      "134197            0          1          0         6       0               0   \n",
      "\n",
      "        short_word_freq  \n",
      "0                    19  \n",
      "1                    34  \n",
      "2                    10  \n",
      "3                    30  \n",
      "4                    19  \n",
      "...                 ...  \n",
      "134193               32  \n",
      "134194                8  \n",
      "134195               37  \n",
      "134196               11  \n",
      "134197               30  \n",
      "\n",
      "[134198 rows x 63 columns]\n"
     ]
    }
   ],
   "source": [
    "truth_seeker = pd.read_csv(\"TruthSeeker2023/Features_For_Traditional_ML_Techniques.csv\")\n",
    "truth_seeker = truth_seeker.drop(columns=[\"Unnamed: 0\"])"
   ]
  },
  {
   "cell_type": "code",
   "execution_count": 21,
   "metadata": {},
   "outputs": [
    {
     "name": "stdout",
     "output_type": "stream",
     "text": [
      "Index(['majority_target', 'statement', 'BinaryNumTarget', 'tweet',\n",
      "       'followers_count', 'friends_count', 'favourites_count',\n",
      "       'statuses_count', 'listed_count', 'following', 'embeddings', 'BotScore',\n",
      "       'BotScoreBinary', 'cred', 'normalize_influence', 'mentions', 'quotes',\n",
      "       'replies', 'retweets', 'favourites', 'hashtags', 'URLs', 'unique_count',\n",
      "       'total_count', 'ORG_percentage', 'NORP_percentage', 'GPE_percentage',\n",
      "       'PERSON_percentage', 'MONEY_percentage', 'DATE_percentage',\n",
      "       'CARDINAL_percentage', 'PERCENT_percentage', 'ORDINAL_percentage',\n",
      "       'FAC_percentage', 'LAW_percentage', 'PRODUCT_percentage',\n",
      "       'EVENT_percentage', 'TIME_percentage', 'LOC_percentage',\n",
      "       'WORK_OF_ART_percentage', 'QUANTITY_percentage', 'LANGUAGE_percentage',\n",
      "       'Word count', 'Max word length', 'Min word length',\n",
      "       'Average word length', 'present_verbs', 'past_verbs', 'adjectives',\n",
      "       'adverbs', 'adpositions', 'pronouns', 'TOs', 'determiners',\n",
      "       'conjunctions', 'dots', 'exclamation', 'questions', 'ampersand',\n",
      "       'capitals', 'digits', 'long_word_freq', 'short_word_freq'],\n",
      "      dtype='object')\n"
     ]
    }
   ],
   "source": [
    "print(truth_seeker.columns)"
   ]
  },
  {
   "cell_type": "code",
   "execution_count": 3,
   "metadata": {},
   "outputs": [
    {
     "name": "stdout",
     "output_type": "stream",
     "text": [
      "        followers_count  friends_count  favourites_count  statuses_count  \\\n",
      "0                4262.0         3619.0           34945.0         16423.0   \n",
      "1                1393.0         1621.0           31436.0         37184.0   \n",
      "2                   9.0           84.0             219.0          1184.0   \n",
      "3                4262.0         3619.0           34945.0         16423.0   \n",
      "4                  70.0          166.0           15282.0          2194.0   \n",
      "...                 ...            ...               ...             ...   \n",
      "134193           2075.0         2662.0          156306.0         62375.0   \n",
      "134194           1636.0         1626.0          215290.0         44011.0   \n",
      "134195            286.0         2501.0           28377.0          7617.0   \n",
      "134196              2.0           45.0              16.0           509.0   \n",
      "134197            178.0          471.0            1254.0          2094.0   \n",
      "\n",
      "        listed_count  following  BotScore  BotScoreBinary      cred  \\\n",
      "0               44.0        0.0      0.03             0.0  0.540794   \n",
      "1               64.0        0.0      0.03             0.0  0.462177   \n",
      "2                0.0        0.0      0.03             0.0  0.096774   \n",
      "3               44.0        0.0      0.03             0.0  0.540794   \n",
      "4                0.0        0.0      0.03             0.0  0.296610   \n",
      "...              ...        ...       ...             ...       ...   \n",
      "134193           3.0        0.0      0.03             0.0  0.438041   \n",
      "134194          10.0        0.0      0.03             0.0  0.501533   \n",
      "134195           1.0        0.0      0.03             0.0  0.102619   \n",
      "134196           0.0        0.0      0.03             0.0  0.042553   \n",
      "134197           0.0        0.0      0.03             0.0  0.274268   \n",
      "\n",
      "        normalize_influence  ...  determiners  conjunctions  dots  \\\n",
      "0                  0.104602  ...            0             0     5   \n",
      "1                  0.094436  ...            0             2     1   \n",
      "2                  0.039846  ...            0             1     0   \n",
      "3                  0.104602  ...            0             1     3   \n",
      "4                  0.061135  ...            0             1     3   \n",
      "...                     ...  ...          ...           ...   ...   \n",
      "134193             0.098915  ...            0             2     1   \n",
      "134194             0.096203  ...            0             0     1   \n",
      "134195             0.076870  ...            1             4     1   \n",
      "134196             0.024038  ...            1             0     3   \n",
      "134197             0.070342  ...            0             1     2   \n",
      "\n",
      "        exclamation  questions  ampersand  capitals  digits  long_word_freq  \\\n",
      "0                 0          1          0        33       3               5   \n",
      "1                 0          0          0        14       0               2   \n",
      "2                 0          0          0         3       0               4   \n",
      "3                 0          0          1         6       8               1   \n",
      "4                 0          1          0        11       3               2   \n",
      "...             ...        ...        ...       ...     ...             ...   \n",
      "134193            0          3          0        31       0               4   \n",
      "134194            0          0          0        16       6               2   \n",
      "134195            0          0          1         2       4               0   \n",
      "134196            0          0          0         0       0               1   \n",
      "134197            0          1          0         6       0               0   \n",
      "\n",
      "        short_word_freq  \n",
      "0                    19  \n",
      "1                    34  \n",
      "2                    10  \n",
      "3                    30  \n",
      "4                    19  \n",
      "...                 ...  \n",
      "134193               32  \n",
      "134194                8  \n",
      "134195               37  \n",
      "134196               11  \n",
      "134197               30  \n",
      "\n",
      "[134198 rows x 58 columns]\n"
     ]
    }
   ],
   "source": [
    "truth_seeker_content = truth_seeker[[\"unique_count\", \"present_verbs\", \"total_count\", \"past_verbs\", \"ORG_percentage\", \"adjectives\", \n",
    "                                     \"NORP_percentage\", \"pronouns\", \"GPE_percentage\", \"TOs\", \"PERSON_percentage\", \"determiners\", \n",
    "                                     \"MONEY_percentage\", \"conjunctions\", \"DATE_percentage\", \"dots\", \"CARDINAL_percentage\", \"exclamation\", \n",
    "                                     \"PERCENT_percentage\", \"questions\", \"ORDINAL_percentage\", \"ampersand\", \"FAC_percentage\", \"capitals\", \n",
    "                                     \"LAW_percentage\", \"quotes\", \"PRODUCT_percentage\", \"digits\", \"EVENT_percentage\", \"long_word_freq\", \n",
    "                                     \"TIME_percentage\", \"short_word_freq\", \"LOC_percentage\", \"ORG_percentage\", \"WORK_OF_ART_percentage\", \n",
    "                                     \"QUANTITY_percentage\", \"LANGUAGE_percentage\", \"Max word length\", \"Min word length\", \"Average word length\"]]\n",
    "\n",
    "truth_seeker_user = truth_seeker[['followers_count', 'friends_count', 'favourites_count', 'statuses_count', 'listed_count', \n",
    "                                  'following', 'mentions', 'quotes','replies', 'retweets', 'favourites', 'hashtags', 'URLs']]\n",
    "\n",
    "truth_seeker_spaCy = truth_seeker[[\"ORG_percentage\", \"NORP_percentage\", \"GPE_percentage\", \"PERSON_percentage\", \"MONEY_percentage\", \"DATE_percentage\", \n",
    "                                   \"CARDINAL_percentage\", \"PERCENT_percentage\", \"ORDINAL_percentage\", \"FAC_percentage\", \"LAW_percentage\", \n",
    "                                   \"PRODUCT_percentage\", \"EVENT_percentage\", \"TIME_percentage\", \"LOC_percentage\", \"ORG_percentage\", \n",
    "                                   \"WORK_OF_ART_percentage\", \"QUANTITY_percentage\", \"LANGUAGE_percentage\"]]\n",
    "truth_seeker_features = truth_seeker.drop(columns=[\"majority_target\", \"statement\", \"BinaryNumTarget\", \"tweet\", \"embeddings\"])\n",
    "print(truth_seeker_features)\n",
    "truth_seeker_output = truth_seeker[\"BinaryNumTarget\"]\n",
    "\n",
    "# Split the data into training and testing sets (e.g., 75% train, 25% test)\n",
    "X_train, X_test, y_train, y_test = train_test_split(\n",
    "    truth_seeker_content,\n",
    "    truth_seeker_output,\n",
    "    test_size=0.25,  # Adjust the test_size as needed\n",
    "    random_state=100  # You can set a random seed for reproducibility\n",
    ")"
   ]
  },
  {
   "cell_type": "code",
   "execution_count": 5,
   "metadata": {},
   "outputs": [
    {
     "name": "stdout",
     "output_type": "stream",
     "text": [
      "Model Accuracy: 0.6914754098360656\n",
      "Precision: 0.7102155119931816\n",
      "Recall: 0.6760155299298836\n",
      "F1 Score: 0.6926936436778197\n"
     ]
    },
    {
     "data": {
      "text/plain": [
       "(0.6914754098360656,\n",
       " 0.7102155119931816,\n",
       " 0.6760155299298836,\n",
       " 0.6926936436778197)"
      ]
     },
     "execution_count": 5,
     "metadata": {},
     "output_type": "execute_result"
    }
   ],
   "source": [
    "rf_model = RandomForestClassifier()\n",
    "train_and_evaluate_data(truth_seeker_features, truth_seeker_output, rf_model)"
   ]
  },
  {
   "cell_type": "code",
   "execution_count": 30,
   "metadata": {},
   "outputs": [
    {
     "name": "stdout",
     "output_type": "stream",
     "text": [
      "Accuracy for Decision Tree Classifier: 0.5974962742175857\n",
      "\n",
      "Classification Report for Decision Tree Classifier:\n",
      "               precision    recall  f1-score   support\n",
      "\n",
      "         0.0       0.59      0.59      0.59     16293\n",
      "         1.0       0.61      0.61      0.61     17257\n",
      "\n",
      "    accuracy                           0.60     33550\n",
      "   macro avg       0.60      0.60      0.60     33550\n",
      "weighted avg       0.60      0.60      0.60     33550\n",
      "\n",
      "Accuracy for Random Forest Classifier: 0.6840238450074516\n",
      "\n",
      "Classification Report for Random Forest Classifier:\n",
      "               precision    recall  f1-score   support\n",
      "\n",
      "         0.0       0.67      0.68      0.68     16293\n",
      "         1.0       0.69      0.69      0.69     17257\n",
      "\n",
      "    accuracy                           0.68     33550\n",
      "   macro avg       0.68      0.68      0.68     33550\n",
      "weighted avg       0.68      0.68      0.68     33550\n",
      "\n"
     ]
    }
   ],
   "source": [
    "# Now, X_train and y_train are your training data, and X_test and y_test are your testing data\n",
    "\n",
    "model_tree = DecisionTreeClassifier()\n",
    "model_tree.fit(X_train, y_train)\n",
    "results = model_tree.predict(X_test)\n",
    "\n",
    "accuracy_tree = accuracy_score(y_test, results)\n",
    "classification_rep_tree = classification_report(y_test, results)\n",
    "\n",
    "# Print or use the evaluation metrics\n",
    "print(\"Accuracy for Decision Tree Classifier:\", accuracy_tree)\n",
    "print(\"\\nClassification Report for Decision Tree Classifier:\\n\", classification_rep_tree)\n",
    "\n",
    "model_rf = RandomForestClassifier()\n",
    "model_rf.fit(X_train, y_train)\n",
    "results_rf = model_rf.predict(X_test)\n",
    "\n",
    "accuracy_rf = accuracy_score(y_test, results_rf)\n",
    "classification_rep_rf = classification_report(y_test, results_rf)\n",
    "\n",
    "# Print or use the evaluation metrics\n",
    "print(\"Accuracy for Random Forest Classifier:\", accuracy_rf)\n",
    "print(\"\\nClassification Report for Random Forest Classifier:\\n\", classification_rep_rf)"
   ]
  },
  {
   "cell_type": "code",
   "execution_count": null,
   "metadata": {},
   "outputs": [
    {
     "name": "stdout",
     "output_type": "stream",
     "text": [
      "\n",
      "Accuracy for Support Vector Classifier: 0.5585692995529061\n",
      "\n",
      "Classification Report for Support Vector Classifier:\n",
      "               precision    recall  f1-score   support\n",
      "\n",
      "         0.0       0.56      0.41      0.47     16293\n",
      "         1.0       0.56      0.70      0.62     17257\n",
      "\n",
      "    accuracy                           0.56     33550\n",
      "   macro avg       0.56      0.55      0.55     33550\n",
      "weighted avg       0.56      0.56      0.55     33550\n",
      "\n"
     ]
    }
   ],
   "source": [
    "scaler = StandardScaler()\n",
    "X_train_scaled = scaler.fit_transform(X_train)\n",
    "X_test_scaled = scaler.transform(X_test)\n",
    "\n",
    "model_svc = SVC()\n",
    "model_svc.fit(X_train_scaled, y_train)\n",
    "results_svc = model_svc.predict(X_test_scaled)\n",
    "\n",
    "# Evaluate the SVM model\n",
    "accuracy_svc = accuracy_score(y_test, results_svc)\n",
    "classification_rep_svc = classification_report(y_test, results_svc)\n",
    "\n",
    "# Print or use the evaluation metrics for SVM\n",
    "print(\"\\nAccuracy for Support Vector Classifier:\", accuracy_svc)\n",
    "print(\"\\nClassification Report for Support Vector Classifier:\\n\", classification_rep_svc)"
   ]
  },
  {
   "cell_type": "code",
   "execution_count": 5,
   "metadata": {},
   "outputs": [
    {
     "name": "stdout",
     "output_type": "stream",
     "text": [
      "KNeighborsClassifier Cross-Validation Scores: [0.59279682 0.59379036 0.59513164 0.59441602 0.59292563]\n",
      "KNeighborsClassifier Mean Accuracy: 0.5938\n",
      "KNeighborsClassifier Standard Deviation: 0.0009\n",
      "KNeighborsClassifier Test Accuracy: 0.5997\n"
     ]
    },
    {
     "ename": "TypeError",
     "evalue": "train_and_evaluate() missing 1 required positional argument: 'y_test'",
     "output_type": "error",
     "traceback": [
      "\u001b[0;31m---------------------------------------------------------------------------\u001b[0m",
      "\u001b[0;31mTypeError\u001b[0m                                 Traceback (most recent call last)",
      "\u001b[1;32m/home/madans2984/Fall23/scicomp-p3-fake-news-detection/test.ipynb Cell 7\u001b[0m line \u001b[0;36m6\n\u001b[1;32m      <a href='vscode-notebook-cell:/home/madans2984/Fall23/scicomp-p3-fake-news-detection/test.ipynb#X10sZmlsZQ%3D%3D?line=3'>4</a>\u001b[0m \u001b[39m# Example usage with RandomForestClassifier\u001b[39;00m\n\u001b[1;32m      <a href='vscode-notebook-cell:/home/madans2984/Fall23/scicomp-p3-fake-news-detection/test.ipynb#X10sZmlsZQ%3D%3D?line=4'>5</a>\u001b[0m rf_model \u001b[39m=\u001b[39m RandomForestClassifier()\n\u001b[0;32m----> <a href='vscode-notebook-cell:/home/madans2984/Fall23/scicomp-p3-fake-news-detection/test.ipynb#X10sZmlsZQ%3D%3D?line=5'>6</a>\u001b[0m train_and_evaluate(rf_model, X_train, y_train, X_test, y_test)\n",
      "\u001b[0;31mTypeError\u001b[0m: train_and_evaluate() missing 1 required positional argument: 'y_test'"
     ]
    }
   ],
   "source": [
    "knn_model = DecisionTreeClassifier()\n",
    "train_and_evaluate_model(knn_model, \"KNeighborsClassifier\", X_train, y_train, X_test, y_test)\n",
    "\n",
    "# Example usage with RandomForestClassifier\n",
    "rf_model = RandomForestClassifier()\n",
    "train_and_evaluate_model(rf_model, X_train, y_train, X_test, y_test)"
   ]
  }
 ],
 "metadata": {
  "kernelspec": {
   "display_name": "Python 3",
   "language": "python",
   "name": "python3"
  },
  "language_info": {
   "codemirror_mode": {
    "name": "ipython",
    "version": 3
   },
   "file_extension": ".py",
   "mimetype": "text/x-python",
   "name": "python",
   "nbconvert_exporter": "python",
   "pygments_lexer": "ipython3",
   "version": "3.10.12"
  }
 },
 "nbformat": 4,
 "nbformat_minor": 2
}
