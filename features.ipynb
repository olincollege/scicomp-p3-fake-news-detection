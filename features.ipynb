{
 "cells": [
  {
   "cell_type": "code",
   "execution_count": 1,
   "metadata": {},
   "outputs": [
    {
     "name": "stderr",
     "output_type": "stream",
     "text": [
      "/usr/lib/python3/dist-packages/scipy/__init__.py:146: UserWarning: A NumPy version >=1.17.3 and <1.25.0 is required for this version of SciPy (detected version 1.26.1\n",
      "  warnings.warn(f\"A NumPy version >={np_minversion} and <{np_maxversion}\"\n"
     ]
    }
   ],
   "source": [
    "import pandas as pd\n",
    "from helpers import *\n",
    "from sklearn.ensemble import RandomForestClassifier"
   ]
  },
  {
   "cell_type": "code",
   "execution_count": 2,
   "metadata": {},
   "outputs": [],
   "source": [
    "# Loading in data and cleaning up unnecessary columns.\n",
    "truth_seeker = pd.read_csv(\"TruthSeeker2023/Features_For_Traditional_ML_Techniques.csv\")\n",
    "truth_seeker = truth_seeker.drop(columns=[\"Unnamed: 0\"])"
   ]
  },
  {
   "cell_type": "code",
   "execution_count": 10,
   "metadata": {},
   "outputs": [],
   "source": [
    "# Extracting all features which are derived based on the content.\n",
    "truth_seeker_content = truth_seeker[[\"unique_count\", \"present_verbs\", \"total_count\", \"past_verbs\", \"ORG_percentage\", \"adjectives\", \n",
    "                                     \"NORP_percentage\", \"pronouns\", \"GPE_percentage\", \"TOs\", \"PERSON_percentage\", \"determiners\", \n",
    "                                     \"MONEY_percentage\", \"conjunctions\", \"DATE_percentage\", \"dots\", \"CARDINAL_percentage\", \"exclamation\", \n",
    "                                     \"PERCENT_percentage\", \"questions\", \"ORDINAL_percentage\", \"ampersand\", \"FAC_percentage\", \"capitals\", \n",
    "                                     \"LAW_percentage\", \"quotes\", \"PRODUCT_percentage\", \"digits\", \"EVENT_percentage\", \"long_word_freq\", \n",
    "                                     \"TIME_percentage\", \"short_word_freq\", \"LOC_percentage\", \"ORG_percentage\", \"WORK_OF_ART_percentage\", \n",
    "                                     \"QUANTITY_percentage\", \"LANGUAGE_percentage\", \"Max word length\", \"Min word length\", \"Average word length\"]]\n",
    "\n",
    "# Extracting all features which are derived based on the user.\n",
    "truth_seeker_user = truth_seeker[['followers_count', 'friends_count', 'favourites_count', 'statuses_count', 'listed_count', \n",
    "                                  'following', 'mentions', 'quotes','replies', 'retweets', 'favourites', 'hashtags', 'URLs']]\n",
    "\n",
    "# Extracting all features which are used as metrics of credibility.\n",
    "truth_seeker_cred = truth_seeker[['BotScore', 'BotScoreBinary', 'cred', 'normalize_influence']]\n",
    "\n",
    "# Extracting all features which are derived based on lexical structure in the tweet.\n",
    "truth_seeker_lexical = truth_seeker[['present_verbs', 'past_verbs', 'adjectives', 'adverbs', 'adpositions', 'pronouns', 'TOs', \n",
    "                                     'determiners', 'conjunctions', 'dots', 'exclamation', 'questions', 'ampersand', 'capitals', \n",
    "                                     'digits', 'long_word_freq', 'short_word_freq']]\n",
    "\n",
    "# Extracting all features which are derived based on spaCy tags.\n",
    "truth_seeker_spaCy = truth_seeker[[\"ORG_percentage\", \"NORP_percentage\", \"GPE_percentage\", \"PERSON_percentage\", \"MONEY_percentage\", \"DATE_percentage\", \n",
    "                                   \"CARDINAL_percentage\", \"PERCENT_percentage\", \"ORDINAL_percentage\", \"FAC_percentage\", \"LAW_percentage\", \n",
    "                                   \"PRODUCT_percentage\", \"EVENT_percentage\", \"TIME_percentage\", \"LOC_percentage\", \"ORG_percentage\", \n",
    "                                   \"WORK_OF_ART_percentage\", \"QUANTITY_percentage\", \"LANGUAGE_percentage\"]]\n",
    "\n",
    "# Extracting all features.\n",
    "truth_seeker_features = truth_seeker.drop(columns=[\"majority_target\", \"statement\", \"BinaryNumTarget\", \"tweet\", \"embeddings\"])\n",
    "\n",
    "# Extracting label column for data.\n",
    "truth_seeker_output = truth_seeker[\"BinaryNumTarget\"]\n",
    "\n",
    "# Creating sklearn model instance.\n",
    "rf_model = RandomForestClassifier()\n"
   ]
  },
  {
   "cell_type": "code",
   "execution_count": 4,
   "metadata": {},
   "outputs": [
    {
     "name": "stdout",
     "output_type": "stream",
     "text": [
      "Metrics when using all features:\n",
      "Model Accuracy: 0.6913263785394933\n",
      "Precision: 0.7079397964779721\n",
      "Recall: 0.6762120947558349\n",
      "F1 Score: 0.6917123124553465\n"
     ]
    }
   ],
   "source": [
    "# Testing model with all features.\n",
    "print(\"Metrics when using all features:\")\n",
    "train_and_evaluate_data(truth_seeker_features, truth_seeker_output, rf_model)"
   ]
  },
  {
   "cell_type": "code",
   "execution_count": 5,
   "metadata": {},
   "outputs": [
    {
     "name": "stdout",
     "output_type": "stream",
     "text": [
      "Metrics when using spaCy features:\n",
      "Model Accuracy: 0.6048286140089418\n",
      "Precision: 0.6239964599532208\n",
      "Recall: 0.5745300040742681\n",
      "F1 Score: 0.5982424242424241\n"
     ]
    }
   ],
   "source": [
    "# Testing model with spaCy features.\n",
    "print(\"Metrics when using spaCy features:\")\n",
    "train_and_evaluate_data(truth_seeker_spaCy, truth_seeker_output, rf_model)"
   ]
  },
  {
   "cell_type": "code",
   "execution_count": 6,
   "metadata": {},
   "outputs": [
    {
     "name": "stdout",
     "output_type": "stream",
     "text": [
      "Metrics when using lexical features:\n",
      "Model Accuracy: 0.6312965722801789\n",
      "Precision: 0.638957888048062\n",
      "Recall: 0.64379256155055\n",
      "F1 Score: 0.6413661138814798\n"
     ]
    }
   ],
   "source": [
    "# Testing model with lexical features.\n",
    "print(\"Metrics when using lexical features:\")\n",
    "train_and_evaluate_data(truth_seeker_lexical, truth_seeker_output, rf_model)"
   ]
  },
  {
   "cell_type": "code",
   "execution_count": 7,
   "metadata": {},
   "outputs": [
    {
     "name": "stdout",
     "output_type": "stream",
     "text": [
      "Metrics when using credibility features:\n",
      "Model Accuracy: 0.620715350223547\n",
      "Precision: 0.6289351851851852\n",
      "Recall: 0.6325592223968337\n",
      "F1 Score: 0.6307419982008647\n"
     ]
    }
   ],
   "source": [
    "# Testing model with credibility features.\n",
    "print(\"Metrics when using credibility features:\")\n",
    "train_and_evaluate_data(truth_seeker_cred, truth_seeker_output, rf_model)"
   ]
  },
  {
   "cell_type": "code",
   "execution_count": 8,
   "metadata": {},
   "outputs": [
    {
     "name": "stdout",
     "output_type": "stream",
     "text": [
      "Metrics when using user-based features:\n"
     ]
    },
    {
     "name": "stdout",
     "output_type": "stream",
     "text": [
      "Model Accuracy: 0.6427719821162444\n",
      "Precision: 0.6606281686657599\n",
      "Recall: 0.6219079215412374\n",
      "F1 Score: 0.6406835556888023\n"
     ]
    }
   ],
   "source": [
    "# Testing model with user-based features.\n",
    "print(\"Metrics when using user-based features:\")\n",
    "train_and_evaluate_data(truth_seeker_user, truth_seeker_output, rf_model)"
   ]
  },
  {
   "cell_type": "code",
   "execution_count": 9,
   "metadata": {},
   "outputs": [
    {
     "name": "stdout",
     "output_type": "stream",
     "text": [
      "Metrics when using content-based features:\n",
      "Model Accuracy: 0.6825931445603577\n",
      "Precision: 0.6920272812793979\n",
      "Recall: 0.6850590768872592\n",
      "F1 Score: 0.6885255491532365\n"
     ]
    }
   ],
   "source": [
    "# Testing model with content-based features.\n",
    "print(\"Metrics when using content-based features:\")\n",
    "train_and_evaluate_data(truth_seeker_content, truth_seeker_output, rf_model)"
   ]
  }
 ],
 "metadata": {
  "kernelspec": {
   "display_name": "Python 3",
   "language": "python",
   "name": "python3"
  },
  "language_info": {
   "codemirror_mode": {
    "name": "ipython",
    "version": 3
   },
   "file_extension": ".py",
   "mimetype": "text/x-python",
   "name": "python",
   "nbconvert_exporter": "python",
   "pygments_lexer": "ipython3",
   "version": "3.10.12"
  }
 },
 "nbformat": 4,
 "nbformat_minor": 2
}
