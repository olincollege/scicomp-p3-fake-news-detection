{
 "cells": [
  {
   "cell_type": "code",
   "execution_count": 2,
   "metadata": {},
   "outputs": [
    {
     "name": "stderr",
     "output_type": "stream",
     "text": [
      "/usr/lib/python3/dist-packages/scipy/__init__.py:146: UserWarning: A NumPy version >=1.17.3 and <1.25.0 is required for this version of SciPy (detected version 1.26.1\n",
      "  warnings.warn(f\"A NumPy version >={np_minversion} and <{np_maxversion}\"\n"
     ]
    }
   ],
   "source": [
    "from helpers import *\n",
    "import pandas as pd\n",
    "from sklearn.ensemble import RandomForestClassifier"
   ]
  },
  {
   "cell_type": "code",
   "execution_count": 3,
   "metadata": {},
   "outputs": [],
   "source": [
    "truth_seeker = pd.read_csv(\"TruthSeeker2023/Features_For_Traditional_ML_Techniques.csv\")\n",
    "truth_seeker = truth_seeker.drop(columns=[\"Unnamed: 0\"])"
   ]
  },
  {
   "cell_type": "code",
   "execution_count": 4,
   "metadata": {},
   "outputs": [],
   "source": [
    "truth_seeker_content = truth_seeker[[\"unique_count\", \"present_verbs\", \"total_count\", \"past_verbs\", \"ORG_percentage\", \"adjectives\", \n",
    "                                     \"NORP_percentage\", \"pronouns\", \"GPE_percentage\", \"TOs\", \"PERSON_percentage\", \"determiners\", \n",
    "                                     \"MONEY_percentage\", \"conjunctions\", \"DATE_percentage\", \"dots\", \"CARDINAL_percentage\", \"exclamation\", \n",
    "                                     \"PERCENT_percentage\", \"questions\", \"ORDINAL_percentage\", \"ampersand\", \"FAC_percentage\", \"capitals\", \n",
    "                                     \"LAW_percentage\", \"quotes\", \"PRODUCT_percentage\", \"digits\", \"EVENT_percentage\", \"long_word_freq\", \n",
    "                                     \"TIME_percentage\", \"short_word_freq\", \"LOC_percentage\", \"ORG_percentage\", \"WORK_OF_ART_percentage\", \n",
    "                                     \"QUANTITY_percentage\", \"LANGUAGE_percentage\", \"Max word length\", \"Min word length\", \"Average word length\"]]\n",
    "\n",
    "truth_seeker_user = truth_seeker[['followers_count', 'friends_count', 'favourites_count', 'statuses_count', 'listed_count', \n",
    "                                  'following', 'mentions', 'quotes','replies', 'retweets', 'favourites', 'hashtags', 'URLs']]\n",
    "\n",
    "truth_seeker_cred = truth_seeker[['BotScore', 'BotScoreBinary', 'cred', 'normalize_influence']]\n",
    "\n",
    "truth_seeker_lexical = truth_seeker[['present_verbs', 'past_verbs', 'adjectives', 'adverbs', 'adpositions', 'pronouns', 'TOs', \n",
    "                                     'determiners', 'conjunctions', 'dots', 'exclamation', 'questions', 'ampersand', 'capitals', \n",
    "                                     'digits', 'long_word_freq', 'short_word_freq']]\n",
    "\n",
    "truth_seeker_spaCy = truth_seeker[[\"ORG_percentage\", \"NORP_percentage\", \"GPE_percentage\", \"PERSON_percentage\", \"MONEY_percentage\", \"DATE_percentage\", \n",
    "                                   \"CARDINAL_percentage\", \"PERCENT_percentage\", \"ORDINAL_percentage\", \"FAC_percentage\", \"LAW_percentage\", \n",
    "                                   \"PRODUCT_percentage\", \"EVENT_percentage\", \"TIME_percentage\", \"LOC_percentage\", \"ORG_percentage\", \n",
    "                                   \"WORK_OF_ART_percentage\", \"QUANTITY_percentage\", \"LANGUAGE_percentage\"]]\n",
    "\n",
    "truth_seeker_features = truth_seeker.drop(columns=[\"majority_target\", \"statement\", \"BinaryNumTarget\", \"tweet\", \"embeddings\"])\n",
    "\n",
    "truth_seeker_output = truth_seeker[\"BinaryNumTarget\"]"
   ]
  },
  {
   "cell_type": "code",
   "execution_count": 5,
   "metadata": {},
   "outputs": [
    {
     "name": "stdout",
     "output_type": "stream",
     "text": [
      "Model Accuracy: 0.6877198211624441\n",
      "Precision: 0.7070102589154861\n",
      "Recall: 0.6709161499681289\n",
      "F1 Score: 0.6884904706686885\n"
     ]
    }
   ],
   "source": [
    "rf_model = RandomForestClassifier()\n",
    "train_and_evaluate_data(truth_seeker_features, truth_seeker_output, rf_model)"
   ]
  },
  {
   "cell_type": "code",
   "execution_count": 6,
   "metadata": {},
   "outputs": [
    {
     "name": "stdout",
     "output_type": "stream",
     "text": [
      "Model Accuracy: 0.6054545454545455\n",
      "Precision: 0.6268619035597072\n",
      "Recall: 0.5755345656834907\n",
      "F1 Score: 0.6001027159300323\n"
     ]
    }
   ],
   "source": [
    "train_and_evaluate_data(truth_seeker_spaCy, truth_seeker_output, rf_model)"
   ]
  },
  {
   "cell_type": "code",
   "execution_count": 7,
   "metadata": {},
   "outputs": [
    {
     "name": "stdout",
     "output_type": "stream",
     "text": [
      "Model Accuracy: 0.6269448584202683\n",
      "Precision: 0.637444193193019\n",
      "Recall: 0.6370748102219389\n",
      "F1 Score: 0.6372594481799212\n"
     ]
    }
   ],
   "source": [
    "train_and_evaluate_data(truth_seeker_lexical, truth_seeker_output, rf_model)"
   ]
  },
  {
   "cell_type": "code",
   "execution_count": 8,
   "metadata": {},
   "outputs": [
    {
     "name": "stdout",
     "output_type": "stream",
     "text": [
      "Model Accuracy: 0.620059612518629\n",
      "Precision: 0.6304071246819338\n",
      "Recall: 0.6316856927623573\n",
      "F1 Score: 0.6310457610929404\n"
     ]
    }
   ],
   "source": [
    "train_and_evaluate_data(truth_seeker_cred, truth_seeker_output, rf_model)"
   ]
  },
  {
   "cell_type": "code",
   "execution_count": 9,
   "metadata": {},
   "outputs": [
    {
     "name": "stdout",
     "output_type": "stream",
     "text": [
      "Model Accuracy: 0.6402682563338301\n",
      "Precision: 0.6615394196039357\n",
      "Recall: 0.6155762878831779\n",
      "F1 Score: 0.6377307519135524\n"
     ]
    }
   ],
   "source": [
    "train_and_evaluate_data(truth_seeker_user, truth_seeker_output, rf_model)"
   ]
  },
  {
   "cell_type": "code",
   "execution_count": 10,
   "metadata": {},
   "outputs": [
    {
     "name": "stdout",
     "output_type": "stream",
     "text": [
      "Model Accuracy: 0.6845305514157973\n",
      "Precision: 0.6944914019236375\n",
      "Recall: 0.6903865098221011\n",
      "F1 Score: 0.692432872253865\n"
     ]
    }
   ],
   "source": [
    "train_and_evaluate_data(truth_seeker_content, truth_seeker_output, rf_model)"
   ]
  }
 ],
 "metadata": {
  "kernelspec": {
   "display_name": "Python 3",
   "language": "python",
   "name": "python3"
  },
  "language_info": {
   "codemirror_mode": {
    "name": "ipython",
    "version": 3
   },
   "file_extension": ".py",
   "mimetype": "text/x-python",
   "name": "python",
   "nbconvert_exporter": "python",
   "pygments_lexer": "ipython3",
   "version": "3.10.12"
  }
 },
 "nbformat": 4,
 "nbformat_minor": 2
}
