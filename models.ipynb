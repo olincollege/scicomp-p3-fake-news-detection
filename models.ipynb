{
 "cells": [
  {
   "cell_type": "code",
   "execution_count": null,
   "metadata": {},
   "outputs": [],
   "source": [
    "import pandas as pd\n",
    "import matplotlib.pyplot as plt\n",
    "import numpy as np\n",
    "from sklearn.model_selection import train_test_split\n",
    "from sklearn.preprocessing import StandardScaler\n",
    "from sklearn.svm import SVC\n",
    "from sklearn.ensemble import RandomForestClassifier\n",
    "from sklearn.tree import DecisionTreeClassifier\n",
    "from sklearn.naive_bayes import GaussianNB\n",
    "from sklearn.neighbors import KNeighborsClassifier\n",
    "from helpers import *"
   ]
  },
  {
   "cell_type": "code",
   "execution_count": null,
   "metadata": {},
   "outputs": [],
   "source": [
    "# Loading in data and cleaning up unnecessary columns.\n",
    "truth_seeker = pd.read_csv(\"TruthSeeker2023/Features_For_Traditional_ML_Techniques.csv\")\n",
    "truth_seeker = truth_seeker.drop(columns=[\"Unnamed: 0\"])"
   ]
  },
  {
   "cell_type": "code",
   "execution_count": null,
   "metadata": {},
   "outputs": [],
   "source": [
    "# Extracting all features.\n",
    "truth_seeker_features = truth_seeker.drop(columns=[\"majority_target\", \"statement\", \"BinaryNumTarget\", \"tweet\", \"embeddings\"])\n",
    "\n",
    "# Extracting label column for data.\n",
    "truth_seeker_output = truth_seeker[\"BinaryNumTarget\"]\n",
    "\n",
    "# Split the data into training and testing sets (e.g., 75% train, 25% test)\n",
    "X_train, X_test, y_train, y_test = train_test_split(\n",
    "    truth_seeker_features,\n",
    "    truth_seeker_output,\n",
    "    test_size=0.25,  # Adjust the test_size as needed\n",
    "    random_state=100  # Set a random seed for reproducibility\n",
    ")\n",
    "\n",
    "# Create an instance of the StandardScaler.\n",
    "scaler = StandardScaler()\n",
    "\n",
    "# Scale (normalize) the features in the training and testing sets.\n",
    "X_train_scaled = scaler.fit_transform(X_train)\n",
    "X_test_scaled = scaler.transform(X_test)"
   ]
  },
  {
   "cell_type": "markdown",
   "metadata": {},
   "source": [
    "## Testing Models\n",
    "\n",
    "When doing machine learning, one of the most important aspects to consider is what model to fit your data with. A model is the algorithm being used to draw conclusions about the data. In each model, you give it a certain amount of data with the correct answers for the classification (referred to as the training data set) and then give the same model a different set of the same data (referred to as the testing data set) in order to evaluate how well it performs. Each model will have its own advantages and drawbacks depending on its specific methodology and how it interacts with the data. In order to verify the results discussed by Suhaib Kh. Hamed, Mohd Juzaiddin Ab Aziz, and Mohd Ridzwan Yaakub in their paper \"A Review of Fake News Detection Models: Highlighting the Factors Affecting Model Performance and the Prominent Techniques Used\" I chose to test five different kinds of models with a range of different metrics. In the paper, they talk about both machine-learning based and deep-learning based approaches. Deep-learning approaches focus more on neural networks and attempt to mimic the way the human brain works. For the scope of this project, I chose to only work with machine-learning based models. Additionally this paper did not use the same dataset or specify the features used so I am focusing on exploring the overall trends. Another paper, \"The Largest Social Media Ground-Truth Dataset for Real/Fake Content: TruthSeeker\" by Sajjad Dadkhah, Xichen Zhang, Alexander Gerald Weismann, Amir Firouzi, and Ali A. Ghorbani, looks at the specific dataset I'm using so I'll be using their results for direct comparisons.\n",
    "\n",
    "The five models I chose to test are the Decision Tree, Gaussian Naive Bayes, K Nearest Neighbors, Random Forest, and Support Vector classifiers.\n",
    "\n",
    "\n",
    "### Decision Tree\n",
    "\n",
    "Decision Trees are one of the most versatile models for text classification. They work by inferring rules from the data features. For example, if we are trying to predict the color of a ball and in the training data it shows that when a ball is thrown more than 50m it's always blue, the decision tree would infer that for any ball that travels more than 50m, its color will be blue. Depending on the number of features given, a decision tree creates a tree-like structure where it makes a decision at each node. For text classification, Decision trees have been used to identify discriminatory language or patterns for sorting texts into categories. Since the essence of fake news detection is sorting texts into a real and a fake category, a Decision Tree is a good model to test. There are a few other advantages to decision trees. They tend to be easier to understand and interpret which sheds more light on the model's process. They are also able to handle non-linear data very well since they don't assume a particular distribution in the data. That being said, when looking at texts with a large number of features such as the Truth Seeker dataset, the model tends to overfit frequently since small changes in the data can lead to completely different tree structures.\n",
    "\n",
    "### Gaussian Naive Bayes\n",
    "\n",
    "Gaussian Naive Bayes is a probabilistic model that is an extension of a larger category of models called Naive Bayes models. Naive Bayes (NB) methods are an implementation of the Bayes theorem with the assumption that there is conditional independence between all the features. This means that if the value of one feature changes it won't affect the value of any other features. The most common applications of NB models are in classifying documents, filtering, prediction, etc. So long as the assumption of conditional independence isn't severely violated Gaussian NB is considered a simple but powerful algorithm. It's well suited for larger datasets because its simplicity makes it computationally efficient. However, its simplicity also means that it isn't as effective at identifying complex relationships in the data.\n",
    "\n",
    "### K Nearest Neighbors\n",
    "\n",
    "K Nearest Neighbors (KNN) is a nearest neighbors based learning algorithm. This means that this model bases its decision based on the K closest data points. KNN works on the assumption that similar points will be grouped together and can be used for regression or classification problems. KNN is also a non-parametric algorithm which means it's considered good to use when there is an irregular boundary for classification. Non-parametric simply means that it doesn't assume any kind of underlying mathematical model unlike models like linear regression which assumes a linear relationship in the data. KNN stores the training data in its memory rather than going through an actual training period, which makes it easier to implement, but it also means that the majority of computational cost occurs when it is actually making a classification, leading to computational inefficiency and high memory requirements. This is also a model that's very sensitive to noise in the data because it is based on distance and irrelevant features can distort the distance between data points.\n",
    "\n",
    "### Random Forest\n",
    "\n",
    "Random Forest (RF) is an ensemble learning method, which means that rather than constructing one model which handles all the data, RF constructs multiple decision trees during its training to create a more robust model. Decision trees in general are known to be prone to overfitting the data and have high variance but RF corrects this in a few different ways. First, the overall model is constructed from many different decision trees which are all trained on different subsets of the training data. Second, RF intentionally adds randomness into its training for this purpose. It does this in two different ways: training on random subsets of features and evaluating multiple splits at every node. By doing these things, RF is able to mitigate the tendency to overfit to individual data points that is often seen with decision trees. This process tends to significantly increase the performance of the model. Since RF is a very robust model it's effective in classifying datasets with a large number of features, which has been particularly useful in this dataset since there are over 50 features. However, the tradeoff of having a large number of trees involved in the algorithm is that it's considered a bit of a \"black-box\" algorithm and doesn't have the same level of interpretability that an individual decision tree might have, as well as being a more computationally expensive model since it needs to train all of these trees.\n",
    "\n",
    "### Support Vector\n",
    "\n",
    "Support Vector Classifiers (SVC) are very powerful classifiers that attempt to identify a hyperplane which sorts the different classes in the data. A hyperplane is essentially a decision boundary where one side of the boundary is in one category and the other is in a different category. An SVC is particularly good at handling a large number of features since its method is to transform data into high-dimensional spaces and search for the decision boundary there. When it comes to giving its decisions, it's quite computationally efficient as it only holds onto a subset of training points. However, its performance is easily affected by the choice of kernel function and the sensitivity to parameter training. This sensitivity means that it's often recommended to scale data so that every feature will play an equal role in decision making rather than a feature that ranges from 0-1000 disproportionately influencing the model compared to a feature that goes from 0-1. It's also another \"black-box\" model where a user might not be able to understand the decision making process easily.\n",
    "\n",
    "As part of my control, I chose to use all the default parameters provided by sklearn for each of the models. I also used the same training and testing data for each of the models, with the only exception being that the SVC model had a scaled version of the data instead. I used K-Fold cross validation in order to mitigate the effects of variability in the data. This is a method where the dataset is divided into K number of folds and each fold is used as a testing set once while the remaining data is the training data. I chose 5 for the number of folds to use."
   ]
  },
  {
   "cell_type": "code",
   "execution_count": null,
   "metadata": {},
   "outputs": [],
   "source": [
    "# Create a list to store evaluation metrics for each model\n",
    "evaluation_results_data = []\n",
    "\n",
    "# Initialize models\n",
    "tree_model = DecisionTreeClassifier()\n",
    "nb_model = GaussianNB()\n",
    "knn_model = KNeighborsClassifier()\n",
    "rf_model = RandomForestClassifier()\n",
    "\n",
    "models = [tree_model, nb_model, knn_model, rf_model]\n",
    "model_names = [\"Decision Tree\", \"Naive Bayes\", \"KNN\", \"Random Forest\"]\n",
    "\n",
    "# Iterate over models and store evaluation metrics\n",
    "for model, model_name in zip(models, model_names):\n",
    "    metrics_data = train_and_evaluate_model(model, X_train, y_train, X_test, y_test)\n",
    "    evaluation_results_data.append({\"model_name\": model_name, \"metrics_data\": metrics_data})"
   ]
  },
  {
   "cell_type": "code",
   "execution_count": null,
   "metadata": {},
   "outputs": [],
   "source": [
    "# Initialize model\n",
    "svc_model = SVC()\n",
    "\n",
    "model_names.append(\"Support Vector Classifier\")\n",
    "models.append(svc_model)\n",
    "\n",
    "# Testing Support Vector Classifier\n",
    "svc_metrics = train_and_evaluate_model(svc_model, X_train_scaled, y_train, X_test_scaled, y_test)\n",
    "\n",
    "# Add SVC results to the list\n",
    "evaluation_results_data.append({\"model_name\": \"Support Vector Classifier\", \"metrics_data\": svc_metrics})"
   ]
  },
  {
   "cell_type": "markdown",
   "metadata": {},
   "source": [
    "After initializing all the models I wanted to test, the loop above handles running the testing function on each of the sets and adding all of the metrics to a list to simplify analysis. One thing to note is that the SVC model is not included in the loop. This is due to the scaling mentioned previously so the data inputs are slightly different. The SVC metrics are handled first and added to the list before the loop is run for all of the other models. In terms of evaluation metrics, I looked at the accuracy, F1-score, precision, and recall. These 4 statistics were evaluated both based on the mean of the cross validation trials as well as on a test dataset.\n",
    "\n",
    "In the \"A Review of Fake News Detection Models: Highlighting the Factors Affecting Model Performance and the Prominent Techniques Used\" paper, they mentioned using KNN, RF, NB, and SVM. They concluded that of those four RF and SVM had the highest accuracy which is reflected in my results as well. One thing to note is the difference in computational consumption between RF and SVM. While the RF trials would take somewhere between 30 minutes to an hour to run, the SVM trials took well over 4 hours to complete. If I were to make a recommendation, I would argue that the sheer amount of efficiency that RF has in comparison to SVM would make up for any minor differences in accuracy between the two models. The second paper, \"The Largest Social Media Ground-Truth Dataset for Real/Fake Content: TruthSeeker\", gave a table of the different metrics they got from each model. I'll be primarily focusing on accuracy from this table.\n",
    "\n",
    "![Model Metrics](model_metrics.png) \n",
    "\n",
    "The table doesn't look at an SVM but for the other four I've generally replicated their results. My mean and test accuracies follow the same trend as the paper and for RF, KNN, and the Decision Tree model the accuracies are within a few percentage points. The only one with a significant difference in the Gaussian NB; however, this could be due to the data being imbalanced, as I'll explain in the next section.\n",
    "\n",
    "After analyzing the rest of the calculated metrics, I chose to draw conclusions about each model instead of comparing just the values of one metric for each of them.\n",
    "\n",
    "Decision Tree:\n",
    "\n",
    "This model has an overall moderate performance with the mean statistics all being around 0.6. The test metrics are slightly lower which could indicate some overfitting or variance in the model. A further exploration here could be tuning some of the hyperparameters to handle the potential overfitting.\n",
    "\n",
    "Gaussian NB:\n",
    "\n",
    "The NB model shows the lowest performance across the board especially in the mean metrics. In the test metrics, it still shows a generally lower performance but with an unexpected spike in test precision which could mean the data is imbalanced. One way to diagnose this issue would be to check the distribution in the dataset and depending on its results consider adjusting the sample by oversampling the minority or adjusting weightage during training.\n",
    "\n",
    "KNN:\n",
    "\n",
    "The KNN, similarly to the Decision Tree, shows moderate performance with the mean metrics all being around 0.6. The test metrics are very similar to the mean metrics showing an overall very stable performance.\n",
    "\n",
    "RF:\n",
    "\n",
    "The RF model gives one of the best performances amongst these models with higher mean metrics. The test set metrics are also high meaning that the model generalized well.\n",
    "\n",
    "SVM:\n",
    "\n",
    "The SVM model and RF model have very similar statistics so everything said about the RF model applies here as well. However, the SVM took significantly longer compared to the RF for almost the exact same performance.\n",
    "\n",
    "In summary, the RF model performs the best overall, while the Gaussian NB model has the lowest performance. RF and SVM perform the best among all the tested models, which validates the results of both papers. The other models show similar performances to the statistics given in the second paper and range in their precision, recall, and overall accuracy.\n"
   ]
  },
  {
   "cell_type": "markdown",
   "metadata": {},
   "source": [
    "Below is code for seeing all the metrics in table form as well as plots to compare them."
   ]
  },
  {
   "cell_type": "code",
   "execution_count": 33,
   "metadata": {},
   "outputs": [
    {
     "name": "stdout",
     "output_type": "stream",
     "text": [
      "Model               Mean Accuracy  Mean Precision Mean Recall    Mean F1 Score  Test Accuracy  Test Precision Test Recall    Test F1 Score  \n",
      "Decision Tree       0.5985         0.6095         0.6074         0.6082         0.5979         0.6072         0.6096         0.6084         \n",
      "Naive Bayes         0.5265         0.5817         0.5383         0.4522         0.5339         0.9452         0.5261         0.6760         \n",
      "KNN                 0.5915         0.6017         0.6045         0.6030         0.5939         0.6066         0.6049         0.6058         \n",
      "Random Forest       0.6902         0.7059         0.6791         0.6909         0.6890         0.6733         0.7078         0.6901         \n",
      "Support Vector Classifier0.6893         0.7074         0.6734         0.6900         0.6853         0.6662         0.7055         0.6853         \n"
     ]
    }
   ],
   "source": [
    "models = [tree_model, nb_model, knn_model, rf_model]\n",
    "model_names = [\"Decision Tree\", \"Naive Bayes\", \"KNN\", \"Random Forest\"]\n",
    "\n",
    "\n",
    "# Print metrics as a table\n",
    "print(\"{:<20}\".format(\"Model\"), end=\"\")\n",
    "for metric_name in [\"Mean Accuracy\", \"Mean Precision\", \"Mean Recall\", \"Mean F1 Score\", \"Test Accuracy\", \"Test Precision\", \"Test Recall\", \"Test F1 Score\"]:\n",
    "    print(\"{:<15}\".format(metric_name), end=\"\")\n",
    "print()  # Newline\n",
    "\n",
    "for row in evaluation_results_data:\n",
    "    model_name = row[\"model_name\"]\n",
    "    metrics_values = [row[\"metrics_data\"][metric] for metric in [\"Mean Accuracy\", \"Mean Precision\", \"Mean Recall\", \"Mean F1 Score\", \"Test Accuracy\", \"Test Precision\", \"Test Recall\", \"Test F1 Score\"]]\n",
    "\n",
    "    print(\"{:<20}\".format(model_name), end=\"\")\n",
    "    for value in metrics_values:\n",
    "        print(\"{:<15.4f}\".format(value), end=\"\")\n",
    "    print()  # Newline"
   ]
  },
  {
   "cell_type": "code",
   "execution_count": 34,
   "metadata": {},
   "outputs": [
    {
     "ename": "KeyError",
     "evalue": "DecisionTreeClassifier()",
     "output_type": "error",
     "traceback": [
      "\u001b[0;31m---------------------------------------------------------------------------\u001b[0m",
      "\u001b[0;31mKeyError\u001b[0m                                  Traceback (most recent call last)",
      "\u001b[1;32m/home/madans2984/Fall23/scicomp-p3-fake-news-detection/models.ipynb Cell 10\u001b[0m line \u001b[0;36m2\n\u001b[1;32m     <a href='vscode-notebook-cell:/home/madans2984/Fall23/scicomp-p3-fake-news-detection/models.ipynb#X25sZmlsZQ%3D%3D?line=15'>16</a>\u001b[0m     metric_values \u001b[39m=\u001b[39m {row[\u001b[39m\"\u001b[39m\u001b[39mmodel_name\u001b[39m\u001b[39m\"\u001b[39m]: row[\u001b[39m\"\u001b[39m\u001b[39mmetrics_data\u001b[39m\u001b[39m\"\u001b[39m][metric_name] \u001b[39mfor\u001b[39;00m row \u001b[39min\u001b[39;00m evaluation_results_data}\n\u001b[1;32m     <a href='vscode-notebook-cell:/home/madans2984/Fall23/scicomp-p3-fake-news-detection/models.ipynb#X25sZmlsZQ%3D%3D?line=17'>18</a>\u001b[0m     \u001b[39m# Bar plot for each metric\u001b[39;00m\n\u001b[1;32m     <a href='vscode-notebook-cell:/home/madans2984/Fall23/scicomp-p3-fake-news-detection/models.ipynb#X25sZmlsZQ%3D%3D?line=18'>19</a>\u001b[0m     ax\u001b[39m.\u001b[39mbar(\n\u001b[1;32m     <a href='vscode-notebook-cell:/home/madans2984/Fall23/scicomp-p3-fake-news-detection/models.ipynb#X25sZmlsZQ%3D%3D?line=19'>20</a>\u001b[0m         x\u001b[39m=\u001b[39mnp\u001b[39m.\u001b[39marange(\u001b[39mlen\u001b[39m(models)) \u001b[39m+\u001b[39m i \u001b[39m*\u001b[39m bar_width,\n\u001b[0;32m---> <a href='vscode-notebook-cell:/home/madans2984/Fall23/scicomp-p3-fake-news-detection/models.ipynb#X25sZmlsZQ%3D%3D?line=20'>21</a>\u001b[0m         height\u001b[39m=\u001b[39m[metric_values[model_name] \u001b[39mfor\u001b[39;00m model_name \u001b[39min\u001b[39;00m models],  \u001b[39m# Use 'models' here\u001b[39;00m\n\u001b[1;32m     <a href='vscode-notebook-cell:/home/madans2984/Fall23/scicomp-p3-fake-news-detection/models.ipynb#X25sZmlsZQ%3D%3D?line=21'>22</a>\u001b[0m         width\u001b[39m=\u001b[39mbar_width,\n\u001b[1;32m     <a href='vscode-notebook-cell:/home/madans2984/Fall23/scicomp-p3-fake-news-detection/models.ipynb#X25sZmlsZQ%3D%3D?line=22'>23</a>\u001b[0m         label\u001b[39m=\u001b[39mmetric_name  \u001b[39m# Include metric name in the legend\u001b[39;00m\n\u001b[1;32m     <a href='vscode-notebook-cell:/home/madans2984/Fall23/scicomp-p3-fake-news-detection/models.ipynb#X25sZmlsZQ%3D%3D?line=23'>24</a>\u001b[0m     )\n\u001b[1;32m     <a href='vscode-notebook-cell:/home/madans2984/Fall23/scicomp-p3-fake-news-detection/models.ipynb#X25sZmlsZQ%3D%3D?line=25'>26</a>\u001b[0m \u001b[39m# Set labels and title for each plot\u001b[39;00m\n\u001b[1;32m     <a href='vscode-notebook-cell:/home/madans2984/Fall23/scicomp-p3-fake-news-detection/models.ipynb#X25sZmlsZQ%3D%3D?line=26'>27</a>\u001b[0m ax\u001b[39m.\u001b[39mset_xticks(np\u001b[39m.\u001b[39marange(\u001b[39mlen\u001b[39m(models)) \u001b[39m+\u001b[39m (\u001b[39mlen\u001b[39m(metrics_list) \u001b[39m-\u001b[39m \u001b[39m1\u001b[39m) \u001b[39m*\u001b[39m bar_width \u001b[39m/\u001b[39m \u001b[39m2\u001b[39m)\n",
      "\u001b[1;32m/home/madans2984/Fall23/scicomp-p3-fake-news-detection/models.ipynb Cell 10\u001b[0m line \u001b[0;36m2\n\u001b[1;32m     <a href='vscode-notebook-cell:/home/madans2984/Fall23/scicomp-p3-fake-news-detection/models.ipynb#X25sZmlsZQ%3D%3D?line=15'>16</a>\u001b[0m     metric_values \u001b[39m=\u001b[39m {row[\u001b[39m\"\u001b[39m\u001b[39mmodel_name\u001b[39m\u001b[39m\"\u001b[39m]: row[\u001b[39m\"\u001b[39m\u001b[39mmetrics_data\u001b[39m\u001b[39m\"\u001b[39m][metric_name] \u001b[39mfor\u001b[39;00m row \u001b[39min\u001b[39;00m evaluation_results_data}\n\u001b[1;32m     <a href='vscode-notebook-cell:/home/madans2984/Fall23/scicomp-p3-fake-news-detection/models.ipynb#X25sZmlsZQ%3D%3D?line=17'>18</a>\u001b[0m     \u001b[39m# Bar plot for each metric\u001b[39;00m\n\u001b[1;32m     <a href='vscode-notebook-cell:/home/madans2984/Fall23/scicomp-p3-fake-news-detection/models.ipynb#X25sZmlsZQ%3D%3D?line=18'>19</a>\u001b[0m     ax\u001b[39m.\u001b[39mbar(\n\u001b[1;32m     <a href='vscode-notebook-cell:/home/madans2984/Fall23/scicomp-p3-fake-news-detection/models.ipynb#X25sZmlsZQ%3D%3D?line=19'>20</a>\u001b[0m         x\u001b[39m=\u001b[39mnp\u001b[39m.\u001b[39marange(\u001b[39mlen\u001b[39m(models)) \u001b[39m+\u001b[39m i \u001b[39m*\u001b[39m bar_width,\n\u001b[0;32m---> <a href='vscode-notebook-cell:/home/madans2984/Fall23/scicomp-p3-fake-news-detection/models.ipynb#X25sZmlsZQ%3D%3D?line=20'>21</a>\u001b[0m         height\u001b[39m=\u001b[39m[metric_values[model_name] \u001b[39mfor\u001b[39;00m model_name \u001b[39min\u001b[39;00m models],  \u001b[39m# Use 'models' here\u001b[39;00m\n\u001b[1;32m     <a href='vscode-notebook-cell:/home/madans2984/Fall23/scicomp-p3-fake-news-detection/models.ipynb#X25sZmlsZQ%3D%3D?line=21'>22</a>\u001b[0m         width\u001b[39m=\u001b[39mbar_width,\n\u001b[1;32m     <a href='vscode-notebook-cell:/home/madans2984/Fall23/scicomp-p3-fake-news-detection/models.ipynb#X25sZmlsZQ%3D%3D?line=22'>23</a>\u001b[0m         label\u001b[39m=\u001b[39mmetric_name  \u001b[39m# Include metric name in the legend\u001b[39;00m\n\u001b[1;32m     <a href='vscode-notebook-cell:/home/madans2984/Fall23/scicomp-p3-fake-news-detection/models.ipynb#X25sZmlsZQ%3D%3D?line=23'>24</a>\u001b[0m     )\n\u001b[1;32m     <a href='vscode-notebook-cell:/home/madans2984/Fall23/scicomp-p3-fake-news-detection/models.ipynb#X25sZmlsZQ%3D%3D?line=25'>26</a>\u001b[0m \u001b[39m# Set labels and title for each plot\u001b[39;00m\n\u001b[1;32m     <a href='vscode-notebook-cell:/home/madans2984/Fall23/scicomp-p3-fake-news-detection/models.ipynb#X25sZmlsZQ%3D%3D?line=26'>27</a>\u001b[0m ax\u001b[39m.\u001b[39mset_xticks(np\u001b[39m.\u001b[39marange(\u001b[39mlen\u001b[39m(models)) \u001b[39m+\u001b[39m (\u001b[39mlen\u001b[39m(metrics_list) \u001b[39m-\u001b[39m \u001b[39m1\u001b[39m) \u001b[39m*\u001b[39m bar_width \u001b[39m/\u001b[39m \u001b[39m2\u001b[39m)\n",
      "\u001b[0;31mKeyError\u001b[0m: DecisionTreeClassifier()"
     ]
    },
    {
     "data": {
      "image/png": "[encoded data removed]",
      "text/plain": [
       "<Figure size 1200x800 with 1 Axes>"
      ]
     },
     "metadata": {},
     "output_type": "display_data"
    }
   ],
   "source": [
    "# Define the metric categories\n",
    "mean_metrics = [\"Mean Accuracy\", \"Mean Precision\", \"Mean Recall\", \"Mean F1 Score\"]\n",
    "test_metrics = [\"Test Accuracy\", \"Test Precision\", \"Test Recall\", \"Test F1 Score\"]\n",
    "\n",
    "# Set the width of the bars\n",
    "bar_width = 0.2\n",
    "\n",
    "for metric_category, metrics_list in zip([\"Mean Metrics\", \"Test Metrics\"], [mean_metrics, test_metrics]):\n",
    "    # Create a new subplot for each metric category\n",
    "    fig, ax = plt.subplots(figsize=(12, 8))\n",
    "\n",
    "    # Iterate over metric names and create a group of bars for each metric\n",
    "    for i, metric_name in enumerate(metrics_list):\n",
    "        # Extract metric values for each model\n",
    "        metric_values = {row[\"model_name\"]: row[\"metrics_data\"][metric_name] for row in evaluation_results_data}\n",
    "\n",
    "        # Bar plot for each metric\n",
    "        ax.bar(\n",
    "            x=np.arange(len(model_names)) + i * bar_width,\n",
    "            height=[metric_values[model_name] for model_name in model_names],  # Use 'model_names' here\n",
    "            width=bar_width,\n",
    "            label=metric_name  # Include metric name in the legend\n",
    "        )\n",
    "\n",
    "    # Set labels and title for each plot\n",
    "    ax.set_xticks(np.arange(len(model_names)) + (len(metrics_list) - 1) * bar_width / 2)\n",
    "    ax.set_xticklabels(model_names)  # Use 'model_names' here\n",
    "    ax.set_xlabel('Models')\n",
    "    ax.set_ylabel('Metric Value')\n",
    "    ax.set_title(f'{metric_category} for Different Models')\n",
    "    ax.legend()  # Show legend for metric names\n",
    "\n",
    "    # Show the plot\n",
    "    plt.show()"
   ]
  },
  {
   "cell_type": "markdown",
   "metadata": {},
   "source": [
    "Another aspect I was interested in exploring was how to determine where a model fails. Sometimes there will be a pattern to when a model returns a false positive or negative and knowing that information can help fine-tune an algorithm. I decided to attempt to do this by hand by examining when the model returned incorrectly and the features associated to see if I was able to find a common error between the data points. While I have some starter code for it which does print out all of the information needed to do this analysis, I wasn't able to actually draw any conclusions on it due to the sheer amount of data and features. This is likely not the best way to look for these error patterns so a future exploration could be looking more into the best way to parse through this data. A first step would be to finetune the overall model first so that it would be using a few less features."
   ]
  },
  {
   "cell_type": "code",
   "execution_count": null,
   "metadata": {},
   "outputs": [],
   "source": [
    "# Train the model\n",
    "rf_model.fit(X_train, y_train)\n",
    "\n",
    "# Make predictions on the test data\n",
    "y_pred = rf_model.predict(X_test)\n",
    "\n",
    "# Identify indices of false positives and false negatives in the predictions\n",
    "false_positive_indices = np.where((y_pred == 1) & (y_test == 0))[0]\n",
    "false_negative_indices = np.where((y_pred == 0) & (y_test == 1))[0]\n",
    "\n",
    "# Create DataFrames to store false positive and false negative examples\n",
    "false_positive_df = pd.DataFrame(columns=[\"Example\", \"Predicted\", \"Actual\", \"Features\"])\n",
    "false_negative_df = pd.DataFrame(columns=[\"Example\", \"Predicted\", \"Actual\", \"Features\"])\n",
    "\n",
    "# Adding features for false positives in DataFrame\n",
    "for idx in false_positive_indices:\n",
    "    if 0 <= idx < len(X_test):\n",
    "        false_positive_df = pd.concat([false_positive_df, pd.DataFrame({\n",
    "            \"Example\": [f\"False Positive Example {idx}\"],\n",
    "            \"Predicted\": [y_pred[idx]],\n",
    "            \"Actual\": [y_test.iloc[idx]],\n",
    "            \"Features\": [str(X_test.iloc[idx])]\n",
    "        })], ignore_index=True)\n",
    "\n",
    "# Adding features for false negatives in DataFrame\n",
    "for idx in false_negative_indices:\n",
    "    if 0 <= idx < len(X_test):\n",
    "        false_negative_df = pd.concat([false_negative_df, pd.DataFrame({\n",
    "            \"Example\": [f\"False Negative Example {idx}\"],\n",
    "            \"Predicted\": [y_pred[idx]],\n",
    "            \"Actual\": [y_test.iloc[idx]],\n",
    "            \"Features\": [str(X_test.iloc[idx])]\n",
    "        })], ignore_index=True)\n",
    "\n",
    "# Display false positive DataFrame\n",
    "print(\"\\nFalse Positives:\")\n",
    "print(false_positive_df)\n",
    "\n",
    "# Display false negative DataFrame\n",
    "print(\"\\nFalse Negatives:\")\n",
    "print(false_negative_df)"
   ]
  }
 ],
 "metadata": {
  "kernelspec": {
   "display_name": "Python 3",
   "language": "python",
   "name": "python3"
  },
  "language_info": {
   "codemirror_mode": {
    "name": "ipython",
    "version": 3
   },
   "file_extension": ".py",
   "mimetype": "text/x-python",
   "name": "python",
   "nbconvert_exporter": "python",
   "pygments_lexer": "ipython3",
   "version": "3.10.12"
  }
 },
 "nbformat": 4,
 "nbformat_minor": 2
}
