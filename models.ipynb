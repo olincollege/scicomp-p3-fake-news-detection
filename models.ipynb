{
 "cells": [
  {
   "cell_type": "code",
   "execution_count": 1,
   "metadata": {},
   "outputs": [
    {
     "name": "stderr",
     "output_type": "stream",
     "text": [
      "/usr/lib/python3/dist-packages/scipy/__init__.py:146: UserWarning: A NumPy version >=1.17.3 and <1.25.0 is required for this version of SciPy (detected version 1.26.1\n",
      "  warnings.warn(f\"A NumPy version >={np_minversion} and <{np_maxversion}\"\n"
     ]
    }
   ],
   "source": [
    "import pandas as pd\n",
    "from helpers import *\n",
    "from sklearn.model_selection import train_test_split\n",
    "from sklearn.preprocessing import StandardScaler\n",
    "from sklearn.svm import SVC\n",
    "from sklearn.ensemble import RandomForestClassifier\n",
    "from sklearn.tree import DecisionTreeClassifier\n",
    "from sklearn.naive_bayes import GaussianNB\n",
    "from sklearn.neighbors import KNeighborsClassifier"
   ]
  },
  {
   "cell_type": "code",
   "execution_count": 2,
   "metadata": {},
   "outputs": [],
   "source": [
    "# Loading in data and cleaning up unnecessary columns.\n",
    "truth_seeker = pd.read_csv(\"TruthSeeker2023/Features_For_Traditional_ML_Techniques.csv\")\n",
    "truth_seeker = truth_seeker.drop(columns=[\"Unnamed: 0\"])"
   ]
  },
  {
   "cell_type": "code",
   "execution_count": 3,
   "metadata": {},
   "outputs": [],
   "source": [
    "# Extracting all features.\n",
    "truth_seeker_features = truth_seeker.drop(columns=[\"majority_target\", \"statement\", \"BinaryNumTarget\", \"tweet\", \"embeddings\"])\n",
    "\n",
    "# Extracting label column for data.\n",
    "truth_seeker_output = truth_seeker[\"BinaryNumTarget\"]\n",
    "\n",
    "# Split the data into training and testing sets (e.g., 75% train, 25% test)\n",
    "X_train, X_test, y_train, y_test = train_test_split(\n",
    "    truth_seeker_features,\n",
    "    truth_seeker_output,\n",
    "    test_size=0.25,  # Adjust the test_size as needed\n",
    "    random_state=100  # Set a random seed for reproducibility\n",
    ")"
   ]
  },
  {
   "cell_type": "code",
   "execution_count": 4,
   "metadata": {},
   "outputs": [
    {
     "name": "stdout",
     "output_type": "stream",
     "text": [
      "Decision Tree Classifier Cross-Validation Scores: [0.59706905 0.59687034 0.59895678 0.59933429 0.6010234 ]\n",
      "Decision Tree Classifier Mean Accuracy: 0.5987\n",
      "Decision Tree Classifier Standard Deviation: 0.0015\n",
      "Decision Tree Classifier Test Accuracy: 0.5986\n"
     ]
    }
   ],
   "source": [
    "# Creating and testing Decision Tree Classifier.\n",
    "tree_model = DecisionTreeClassifier()\n",
    "train_and_evaluate_model(tree_model, \"Decision Tree Classifier\", X_train, y_train, X_test, y_test)"
   ]
  },
  {
   "cell_type": "code",
   "execution_count": 5,
   "metadata": {},
   "outputs": [
    {
     "name": "stdout",
     "output_type": "stream",
     "text": [
      "Gaussian NB Cross-Validation Scores: [0.56532538 0.52180825 0.49751615 0.52556014 0.52248   ]\n",
      "Gaussian NB Mean Accuracy: 0.5265\n",
      "Gaussian NB Standard Deviation: 0.0218\n",
      "Gaussian NB Test Accuracy: 0.5339\n"
     ]
    }
   ],
   "source": [
    "# Creating and testing Gaussian Naive Bayes model.\n",
    "nb_model = GaussianNB()\n",
    "train_and_evaluate_model(nb_model, \"Gaussian NB\", X_train, y_train, X_test, y_test)"
   ]
  },
  {
   "cell_type": "code",
   "execution_count": 6,
   "metadata": {},
   "outputs": [
    {
     "name": "stdout",
     "output_type": "stream",
     "text": [
      "K Nearest Neighbors Cross-Validation Scores: [0.59393939 0.58852459 0.58768008 0.59466441 0.59252819]\n",
      "K Nearest Neighbors Mean Accuracy: 0.5915\n",
      "K Nearest Neighbors Standard Deviation: 0.0028\n",
      "K Nearest Neighbors Test Accuracy: 0.5939\n"
     ]
    }
   ],
   "source": [
    "# Creating and testing K Nearest Neighbors model.\n",
    "knn_model = KNeighborsClassifier()\n",
    "train_and_evaluate_model(knn_model, \"K Nearest Neighbors\", X_train, y_train, X_test, y_test)"
   ]
  },
  {
   "cell_type": "code",
   "execution_count": 7,
   "metadata": {},
   "outputs": [],
   "source": [
    "# Create an instance of the StandardScaler.\n",
    "scaler = StandardScaler()\n",
    "\n",
    "# Scale (normalize) the features in the training and testing sets.\n",
    "X_train_scaled = scaler.fit_transform(X_train)\n",
    "X_test_scaled = scaler.transform(X_test)\n",
    "\n",
    "# Creating and testing Support Vector Classifier.\n",
    "svc_model = SVC()\n",
    "train_and_evaluate_model(svc_model, \"Support Vector Classifier\", X_train_scaled, y_train, X_test_scaled, y_test)"
   ]
  },
  {
   "cell_type": "code",
   "execution_count": null,
   "metadata": {},
   "outputs": [],
   "source": [
    "# Creating and testing Random Forest Classifier.\n",
    "\n",
    "rf_model = RandomForestClassifier()\n",
    "train_and_evaluate_model(rf_model, \"Random Forest Classifier\", X_train, y_train, X_test, y_test)"
   ]
  }
 ],
 "metadata": {
  "kernelspec": {
   "display_name": "Python 3",
   "language": "python",
   "name": "python3"
  },
  "language_info": {
   "codemirror_mode": {
    "name": "ipython",
    "version": 3
   },
   "file_extension": ".py",
   "mimetype": "text/x-python",
   "name": "python",
   "nbconvert_exporter": "python",
   "pygments_lexer": "ipython3",
   "version": "3.10.12"
  }
 },
 "nbformat": 4,
 "nbformat_minor": 2
}
